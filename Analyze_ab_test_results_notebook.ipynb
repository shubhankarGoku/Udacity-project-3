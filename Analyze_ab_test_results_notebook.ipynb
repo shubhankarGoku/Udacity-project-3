{
 "cells": [
  {
   "cell_type": "markdown",
   "metadata": {},
   "source": [
    "## Analyze A/B Test Results\n",
    "\n",
    "This project will assure you have mastered the subjects covered in the statistics lessons.  The hope is to have this project be as comprehensive of these topics as possible.  Good luck!\n",
    "\n",
    "## Table of Contents\n",
    "- [Introduction](#intro)\n",
    "- [Part I - Probability](#probability)\n",
    "- [Part II - A/B Test](#ab_test)\n",
    "- [Part III - Regression](#regression)\n",
    "\n",
    "\n",
    "<a id='intro'></a>\n",
    "### Introduction\n",
    "\n",
    "A/B tests are very commonly performed by data analysts and data scientists.  It is important that you get some practice working with the difficulties of these \n",
    "\n",
    "For this project, you will be working to understand the results of an A/B test run by an e-commerce website.  Your goal is to work through this notebook to help the company understand if they should implement the new page, keep the old page, or perhaps run the experiment longer to make their decision.\n",
    "\n",
    "**As you work through this notebook, follow along in the classroom and answer the corresponding quiz questions associated with each question.** The labels for each classroom concept are provided for each question.  This will assure you are on the right track as you work through the project, and you can feel more confident in your final submission meeting the criteria.  As a final check, assure you meet all the criteria on the [RUBRIC](https://review.udacity.com/#!/projects/37e27304-ad47-4eb0-a1ab-8c12f60e43d0/rubric).\n",
    "\n",
    "<a id='probability'></a>\n",
    "#### Part I - Probability\n",
    "\n",
    "To get started, let's import our libraries."
   ]
  },
  {
   "cell_type": "code",
   "execution_count": 3,
   "metadata": {},
   "outputs": [],
   "source": [
    "import pandas as pd\n",
    "import numpy as np\n",
    "import random\n",
    "import matplotlib.pyplot as plt\n",
    "%matplotlib inline\n",
    "#We are setting the seed to assure you get the same answers on quizzes as we set up\n",
    "random.seed(42)"
   ]
  },
  {
   "cell_type": "markdown",
   "metadata": {},
   "source": [
    "`1.` Now, read in the `ab_data.csv` data. Store it in `df`.  **Use your dataframe to answer the questions in Quiz 1 of the classroom.**\n",
    "\n",
    "a. Read in the dataset and take a look at the top few rows here:"
   ]
  },
  {
   "cell_type": "code",
   "execution_count": 4,
   "metadata": {},
   "outputs": [
    {
     "data": {
      "text/html": [
       "<div>\n",
       "<style scoped>\n",
       "    .dataframe tbody tr th:only-of-type {\n",
       "        vertical-align: middle;\n",
       "    }\n",
       "\n",
       "    .dataframe tbody tr th {\n",
       "        vertical-align: top;\n",
       "    }\n",
       "\n",
       "    .dataframe thead th {\n",
       "        text-align: right;\n",
       "    }\n",
       "</style>\n",
       "<table border=\"1\" class=\"dataframe\">\n",
       "  <thead>\n",
       "    <tr style=\"text-align: right;\">\n",
       "      <th></th>\n",
       "      <th>user_id</th>\n",
       "      <th>timestamp</th>\n",
       "      <th>group</th>\n",
       "      <th>landing_page</th>\n",
       "      <th>converted</th>\n",
       "    </tr>\n",
       "  </thead>\n",
       "  <tbody>\n",
       "    <tr>\n",
       "      <th>0</th>\n",
       "      <td>851104</td>\n",
       "      <td>2017-01-21 22:11:48.556739</td>\n",
       "      <td>control</td>\n",
       "      <td>old_page</td>\n",
       "      <td>0</td>\n",
       "    </tr>\n",
       "    <tr>\n",
       "      <th>1</th>\n",
       "      <td>804228</td>\n",
       "      <td>2017-01-12 08:01:45.159739</td>\n",
       "      <td>control</td>\n",
       "      <td>old_page</td>\n",
       "      <td>0</td>\n",
       "    </tr>\n",
       "    <tr>\n",
       "      <th>2</th>\n",
       "      <td>661590</td>\n",
       "      <td>2017-01-11 16:55:06.154213</td>\n",
       "      <td>treatment</td>\n",
       "      <td>new_page</td>\n",
       "      <td>0</td>\n",
       "    </tr>\n",
       "    <tr>\n",
       "      <th>3</th>\n",
       "      <td>853541</td>\n",
       "      <td>2017-01-08 18:28:03.143765</td>\n",
       "      <td>treatment</td>\n",
       "      <td>new_page</td>\n",
       "      <td>0</td>\n",
       "    </tr>\n",
       "    <tr>\n",
       "      <th>4</th>\n",
       "      <td>864975</td>\n",
       "      <td>2017-01-21 01:52:26.210827</td>\n",
       "      <td>control</td>\n",
       "      <td>old_page</td>\n",
       "      <td>1</td>\n",
       "    </tr>\n",
       "  </tbody>\n",
       "</table>\n",
       "</div>"
      ],
      "text/plain": [
       "   user_id                   timestamp      group landing_page  converted\n",
       "0   851104  2017-01-21 22:11:48.556739    control     old_page          0\n",
       "1   804228  2017-01-12 08:01:45.159739    control     old_page          0\n",
       "2   661590  2017-01-11 16:55:06.154213  treatment     new_page          0\n",
       "3   853541  2017-01-08 18:28:03.143765  treatment     new_page          0\n",
       "4   864975  2017-01-21 01:52:26.210827    control     old_page          1"
      ]
     },
     "execution_count": 4,
     "metadata": {},
     "output_type": "execute_result"
    }
   ],
   "source": [
    "df=pd.read_csv('ab_data.csv')\n",
    "df.head()"
   ]
  },
  {
   "cell_type": "markdown",
   "metadata": {},
   "source": [
    "b. Use the below cell to find the number of rows in the dataset."
   ]
  },
  {
   "cell_type": "code",
   "execution_count": 5,
   "metadata": {},
   "outputs": [
    {
     "data": {
      "text/plain": [
       "(294478, 5)"
      ]
     },
     "execution_count": 5,
     "metadata": {},
     "output_type": "execute_result"
    }
   ],
   "source": [
    "df.shape"
   ]
  },
  {
   "cell_type": "markdown",
   "metadata": {},
   "source": [
    "c. The number of unique users in the dataset."
   ]
  },
  {
   "cell_type": "code",
   "execution_count": 6,
   "metadata": {},
   "outputs": [
    {
     "data": {
      "text/plain": [
       "290584"
      ]
     },
     "execution_count": 6,
     "metadata": {},
     "output_type": "execute_result"
    }
   ],
   "source": [
    "df['user_id'].nunique()"
   ]
  },
  {
   "cell_type": "markdown",
   "metadata": {
    "collapsed": true
   },
   "source": [
    "d. The proportion of users converted."
   ]
  },
  {
   "cell_type": "code",
   "execution_count": 7,
   "metadata": {},
   "outputs": [
    {
     "data": {
      "text/plain": [
       "0.11965919355605512"
      ]
     },
     "execution_count": 7,
     "metadata": {},
     "output_type": "execute_result"
    }
   ],
   "source": [
    "df['converted'].mean()"
   ]
  },
  {
   "cell_type": "markdown",
   "metadata": {
    "collapsed": true
   },
   "source": [
    "e. The number of times the `new_page` and `treatment` don't line up."
   ]
  },
  {
   "cell_type": "code",
   "execution_count": 8,
   "metadata": {},
   "outputs": [
    {
     "data": {
      "text/plain": [
       "(3893, 5)"
      ]
     },
     "execution_count": 8,
     "metadata": {},
     "output_type": "execute_result"
    }
   ],
   "source": [
    "df2=df.query(\"(group=='control' and landing_page=='new_page') or (group=='treatment' and landing_page=='old_page')\")\n",
    "df2.shape"
   ]
  },
  {
   "cell_type": "markdown",
   "metadata": {},
   "source": [
    "f. Do any of the rows have missing values?"
   ]
  },
  {
   "cell_type": "code",
   "execution_count": 9,
   "metadata": {},
   "outputs": [
    {
     "data": {
      "text/plain": [
       "user_id         0\n",
       "timestamp       0\n",
       "group           0\n",
       "landing_page    0\n",
       "converted       0\n",
       "dtype: int64"
      ]
     },
     "execution_count": 9,
     "metadata": {},
     "output_type": "execute_result"
    }
   ],
   "source": [
    "df.isnull().sum()"
   ]
  },
  {
   "cell_type": "markdown",
   "metadata": {},
   "source": [
    "`2.` For the rows where **treatment** is not aligned with **new_page** or **control** is not aligned with **old_page**, we cannot be sure if this row truly received the new or old page.  Use **Quiz 2** in the classroom to provide how we should handle these rows.  \n",
    "\n",
    "a. Now use the answer to the quiz to create a new dataset that meets the specifications from the quiz.  Store your new dataframe in **df2**."
   ]
  },
  {
   "cell_type": "code",
   "execution_count": 10,
   "metadata": {},
   "outputs": [
    {
     "data": {
      "text/html": [
       "<div>\n",
       "<style scoped>\n",
       "    .dataframe tbody tr th:only-of-type {\n",
       "        vertical-align: middle;\n",
       "    }\n",
       "\n",
       "    .dataframe tbody tr th {\n",
       "        vertical-align: top;\n",
       "    }\n",
       "\n",
       "    .dataframe thead th {\n",
       "        text-align: right;\n",
       "    }\n",
       "</style>\n",
       "<table border=\"1\" class=\"dataframe\">\n",
       "  <thead>\n",
       "    <tr style=\"text-align: right;\">\n",
       "      <th></th>\n",
       "      <th>user_id</th>\n",
       "      <th>timestamp</th>\n",
       "      <th>group</th>\n",
       "      <th>landing_page</th>\n",
       "      <th>converted</th>\n",
       "    </tr>\n",
       "  </thead>\n",
       "  <tbody>\n",
       "    <tr>\n",
       "      <th>0</th>\n",
       "      <td>851104</td>\n",
       "      <td>2017-01-21 22:11:48.556739</td>\n",
       "      <td>control</td>\n",
       "      <td>old_page</td>\n",
       "      <td>0</td>\n",
       "    </tr>\n",
       "    <tr>\n",
       "      <th>1</th>\n",
       "      <td>804228</td>\n",
       "      <td>2017-01-12 08:01:45.159739</td>\n",
       "      <td>control</td>\n",
       "      <td>old_page</td>\n",
       "      <td>0</td>\n",
       "    </tr>\n",
       "    <tr>\n",
       "      <th>2</th>\n",
       "      <td>661590</td>\n",
       "      <td>2017-01-11 16:55:06.154213</td>\n",
       "      <td>treatment</td>\n",
       "      <td>new_page</td>\n",
       "      <td>0</td>\n",
       "    </tr>\n",
       "    <tr>\n",
       "      <th>3</th>\n",
       "      <td>853541</td>\n",
       "      <td>2017-01-08 18:28:03.143765</td>\n",
       "      <td>treatment</td>\n",
       "      <td>new_page</td>\n",
       "      <td>0</td>\n",
       "    </tr>\n",
       "    <tr>\n",
       "      <th>4</th>\n",
       "      <td>864975</td>\n",
       "      <td>2017-01-21 01:52:26.210827</td>\n",
       "      <td>control</td>\n",
       "      <td>old_page</td>\n",
       "      <td>1</td>\n",
       "    </tr>\n",
       "  </tbody>\n",
       "</table>\n",
       "</div>"
      ],
      "text/plain": [
       "   user_id                   timestamp      group landing_page  converted\n",
       "0   851104  2017-01-21 22:11:48.556739    control     old_page          0\n",
       "1   804228  2017-01-12 08:01:45.159739    control     old_page          0\n",
       "2   661590  2017-01-11 16:55:06.154213  treatment     new_page          0\n",
       "3   853541  2017-01-08 18:28:03.143765  treatment     new_page          0\n",
       "4   864975  2017-01-21 01:52:26.210827    control     old_page          1"
      ]
     },
     "execution_count": 10,
     "metadata": {},
     "output_type": "execute_result"
    }
   ],
   "source": [
    "df2=df.query(\"(group=='control' and landing_page=='old_page' or group=='treatment' and landing_page=='new_page')\")\n",
    "df2.head()"
   ]
  },
  {
   "cell_type": "code",
   "execution_count": 11,
   "metadata": {},
   "outputs": [
    {
     "data": {
      "text/plain": [
       "0"
      ]
     },
     "execution_count": 11,
     "metadata": {},
     "output_type": "execute_result"
    }
   ],
   "source": [
    "# Double Check all of the correct rows were removed - this should be 0\n",
    "df2[((df2['group'] == 'treatment') == (df2['landing_page'] == 'new_page')) == False].shape[0]"
   ]
  },
  {
   "cell_type": "markdown",
   "metadata": {},
   "source": [
    "`3.` Use **df2** and the cells below to answer questions for **Quiz3** in the classroom."
   ]
  },
  {
   "cell_type": "markdown",
   "metadata": {},
   "source": [
    "a. How many unique **user_id**s are in **df2**?"
   ]
  },
  {
   "cell_type": "code",
   "execution_count": 12,
   "metadata": {},
   "outputs": [
    {
     "data": {
      "text/plain": [
       "290584"
      ]
     },
     "execution_count": 12,
     "metadata": {},
     "output_type": "execute_result"
    }
   ],
   "source": [
    "df2['user_id'].nunique()"
   ]
  },
  {
   "cell_type": "markdown",
   "metadata": {
    "collapsed": true
   },
   "source": [
    "b. There is one **user_id** repeated in **df2**.  What is it?"
   ]
  },
  {
   "cell_type": "code",
   "execution_count": 13,
   "metadata": {},
   "outputs": [
    {
     "data": {
      "text/plain": [
       "1"
      ]
     },
     "execution_count": 13,
     "metadata": {},
     "output_type": "execute_result"
    }
   ],
   "source": [
    "df2['user_id'].duplicated().sum()"
   ]
  },
  {
   "cell_type": "code",
   "execution_count": 14,
   "metadata": {},
   "outputs": [
    {
     "data": {
      "text/plain": [
       "array([773192], dtype=int64)"
      ]
     },
     "execution_count": 14,
     "metadata": {},
     "output_type": "execute_result"
    }
   ],
   "source": [
    "df2[df2.duplicated(['user_id'])]['user_id'].unique()"
   ]
  },
  {
   "cell_type": "markdown",
   "metadata": {},
   "source": [
    "c. What is the row information for the repeat **user_id**? "
   ]
  },
  {
   "cell_type": "code",
   "execution_count": 15,
   "metadata": {},
   "outputs": [
    {
     "data": {
      "text/html": [
       "<div>\n",
       "<style scoped>\n",
       "    .dataframe tbody tr th:only-of-type {\n",
       "        vertical-align: middle;\n",
       "    }\n",
       "\n",
       "    .dataframe tbody tr th {\n",
       "        vertical-align: top;\n",
       "    }\n",
       "\n",
       "    .dataframe thead th {\n",
       "        text-align: right;\n",
       "    }\n",
       "</style>\n",
       "<table border=\"1\" class=\"dataframe\">\n",
       "  <thead>\n",
       "    <tr style=\"text-align: right;\">\n",
       "      <th></th>\n",
       "      <th>user_id</th>\n",
       "      <th>timestamp</th>\n",
       "      <th>group</th>\n",
       "      <th>landing_page</th>\n",
       "      <th>converted</th>\n",
       "    </tr>\n",
       "  </thead>\n",
       "  <tbody>\n",
       "    <tr>\n",
       "      <th>1899</th>\n",
       "      <td>773192</td>\n",
       "      <td>2017-01-09 05:37:58.781806</td>\n",
       "      <td>treatment</td>\n",
       "      <td>new_page</td>\n",
       "      <td>0</td>\n",
       "    </tr>\n",
       "    <tr>\n",
       "      <th>2893</th>\n",
       "      <td>773192</td>\n",
       "      <td>2017-01-14 02:55:59.590927</td>\n",
       "      <td>treatment</td>\n",
       "      <td>new_page</td>\n",
       "      <td>0</td>\n",
       "    </tr>\n",
       "  </tbody>\n",
       "</table>\n",
       "</div>"
      ],
      "text/plain": [
       "      user_id                   timestamp      group landing_page  converted\n",
       "1899   773192  2017-01-09 05:37:58.781806  treatment     new_page          0\n",
       "2893   773192  2017-01-14 02:55:59.590927  treatment     new_page          0"
      ]
     },
     "execution_count": 15,
     "metadata": {},
     "output_type": "execute_result"
    }
   ],
   "source": [
    "df2[df2.duplicated(['user_id'],keep=False)]"
   ]
  },
  {
   "cell_type": "markdown",
   "metadata": {},
   "source": [
    "d. Remove **one** of the rows with a duplicate **user_id**, but keep your dataframe as **df2**."
   ]
  },
  {
   "cell_type": "code",
   "execution_count": 16,
   "metadata": {},
   "outputs": [],
   "source": [
    "df2=df2.drop_duplicates( ['user_id'],keep='first')"
   ]
  },
  {
   "cell_type": "markdown",
   "metadata": {},
   "source": [
    "`4.` Use **df2** in the below cells to answer the quiz questions related to **Quiz 4** in the classroom.\n",
    "\n",
    "a. What is the probability of an individual converting regardless of the page they receive?"
   ]
  },
  {
   "cell_type": "code",
   "execution_count": 17,
   "metadata": {},
   "outputs": [
    {
     "data": {
      "text/plain": [
       "0.11959708724499628"
      ]
     },
     "execution_count": 17,
     "metadata": {},
     "output_type": "execute_result"
    }
   ],
   "source": [
    "df2['converted'].mean()"
   ]
  },
  {
   "cell_type": "markdown",
   "metadata": {},
   "source": [
    "b. Given that an individual was in the `control` group, what is the probability they converted?"
   ]
  },
  {
   "cell_type": "code",
   "execution_count": 18,
   "metadata": {},
   "outputs": [
    {
     "data": {
      "text/plain": [
       "0.1203863045004612"
      ]
     },
     "execution_count": 18,
     "metadata": {},
     "output_type": "execute_result"
    }
   ],
   "source": [
    "df2[df2['group']=='control']['converted'].mean()"
   ]
  },
  {
   "cell_type": "markdown",
   "metadata": {},
   "source": [
    "c. Given that an individual was in the `treatment` group, what is the probability they converted?"
   ]
  },
  {
   "cell_type": "code",
   "execution_count": 19,
   "metadata": {},
   "outputs": [
    {
     "data": {
      "text/plain": [
       "0.11880806551510564"
      ]
     },
     "execution_count": 19,
     "metadata": {},
     "output_type": "execute_result"
    }
   ],
   "source": [
    "df2[df2['group']=='treatment']['converted'].mean()"
   ]
  },
  {
   "cell_type": "markdown",
   "metadata": {},
   "source": [
    "d. What is the probability that an individual received the new page?"
   ]
  },
  {
   "cell_type": "code",
   "execution_count": 20,
   "metadata": {},
   "outputs": [
    {
     "data": {
      "text/plain": [
       "0.5000619442226688"
      ]
     },
     "execution_count": 20,
     "metadata": {},
     "output_type": "execute_result"
    }
   ],
   "source": [
    "df3=df2.query(\"landing_page=='new_page'\")\n",
    "len(df3)/df2.shape[0]"
   ]
  },
  {
   "cell_type": "markdown",
   "metadata": {},
   "source": [
    "e. Consider your results from a. through d. above, and explain below whether you think there is sufficient evidence to say that the new treatment page leads to more conversions."
   ]
  },
  {
   "cell_type": "markdown",
   "metadata": {},
   "source": [
    "**Your answer goes here.**"
   ]
  },
  {
   "cell_type": "markdown",
   "metadata": {},
   "source": [
    "> These results show us that for the probability that a control group converted was higher than the treatment group getting cnverted. However the difference is minimal.\n",
    "\n",
    ">Also the probability that the individual received a new page is 0.5, This definitely means we need more evidences to prove that the treatment page leads to more conversions."
   ]
  },
  {
   "cell_type": "markdown",
   "metadata": {},
   "source": [
    "<a id='ab_test'></a>\n",
    "### Part II - A/B Test\n",
    "\n",
    "Notice that because of the time stamp associated with each event, you could technically run a hypothesis test continuously as each observation was observed.  \n",
    "\n",
    "However, then the hard question is do you stop as soon as one page is considered significantly better than another or does it need to happen consistently for a certain amount of time?  How long do you run to render a decision that neither page is better than another?  \n",
    "\n",
    "These questions are the difficult parts associated with A/B tests in general.  \n",
    "\n",
    "\n",
    "`1.` For now, consider you need to make the decision just based on all the data provided.  If you want to assume that the old page is better unless the new page proves to be definitely better at a Type I error rate of 5%, what should your null and alternative hypotheses be?  You can state your hypothesis in terms of words or in terms of **$p_{old}$** and **$p_{new}$**, which are the converted rates for the old and new pages."
   ]
  },
  {
   "cell_type": "markdown",
   "metadata": {},
   "source": [
    "**Put your answer here.**"
   ]
  },
  {
   "cell_type": "markdown",
   "metadata": {},
   "source": [
    "`2.` Assume under the null hypothesis, $p_{new}$ and $p_{old}$ both have \"true\" success rates equal to the **converted** success rate regardless of page - that is $p_{new}$ and $p_{old}$ are equal. Furthermore, assume they are equal to the **converted** rate in **ab_data.csv** regardless of the page. <br><br>\n",
    "\n",
    "Use a sample size for each page equal to the ones in **ab_data.csv**.  <br><br>\n",
    "\n",
    "Perform the sampling distribution for the difference in **converted** between the two pages over 10,000 iterations of calculating an estimate from the null.  <br><br>\n",
    "\n",
    "Use the cells below to provide the necessary parts of this simulation.  If this doesn't make complete sense right now, don't worry - you are going to work through the problems below to complete this problem.  You can use **Quiz 5** in the classroom to make sure you are on the right track.<br><br>"
   ]
  },
  {
   "cell_type": "markdown",
   "metadata": {},
   "source": [
    "a. What is the **convert rate** for $p_{new}$ under the null? "
   ]
  },
  {
   "cell_type": "code",
   "execution_count": 21,
   "metadata": {},
   "outputs": [
    {
     "data": {
      "text/plain": [
       "0.11959708724499628"
      ]
     },
     "execution_count": 21,
     "metadata": {},
     "output_type": "execute_result"
    }
   ],
   "source": [
    "P_new=df2['converted'].mean()\n",
    "P_new"
   ]
  },
  {
   "cell_type": "markdown",
   "metadata": {},
   "source": [
    "b. What is the **convert rate** for $p_{old}$ under the null? <br><br>"
   ]
  },
  {
   "cell_type": "code",
   "execution_count": 22,
   "metadata": {},
   "outputs": [
    {
     "data": {
      "text/plain": [
       "0.11959708724499628"
      ]
     },
     "execution_count": 22,
     "metadata": {},
     "output_type": "execute_result"
    }
   ],
   "source": [
    "P_old=df2['converted'].mean()\n",
    "P_old"
   ]
  },
  {
   "cell_type": "markdown",
   "metadata": {},
   "source": [
    "c. What is $n_{new}$?"
   ]
  },
  {
   "cell_type": "code",
   "execution_count": 23,
   "metadata": {},
   "outputs": [
    {
     "data": {
      "text/plain": [
       "145310"
      ]
     },
     "execution_count": 23,
     "metadata": {},
     "output_type": "execute_result"
    }
   ],
   "source": [
    "N_new=df2[df2['group']=='treatment'].shape[0]\n",
    "N_new"
   ]
  },
  {
   "cell_type": "markdown",
   "metadata": {},
   "source": [
    "d. What is $n_{old}$?"
   ]
  },
  {
   "cell_type": "code",
   "execution_count": 24,
   "metadata": {},
   "outputs": [
    {
     "data": {
      "text/plain": [
       "145274"
      ]
     },
     "execution_count": 24,
     "metadata": {},
     "output_type": "execute_result"
    }
   ],
   "source": [
    "N_old=df2[df2['group']=='control'].shape[0]\n",
    "N_old"
   ]
  },
  {
   "cell_type": "markdown",
   "metadata": {},
   "source": [
    "e. Simulate $n_{new}$ transactions with a convert rate of $p_{new}$ under the null.  Store these $n_{new}$ 1's and 0's in **new_page_converted**."
   ]
  },
  {
   "cell_type": "code",
   "execution_count": 25,
   "metadata": {},
   "outputs": [
    {
     "data": {
      "text/plain": [
       "17276"
      ]
     },
     "execution_count": 25,
     "metadata": {},
     "output_type": "execute_result"
    }
   ],
   "source": [
    "new_page_converted=np.random.binomial(N_new,P_new)\n",
    "new_page_converted"
   ]
  },
  {
   "cell_type": "markdown",
   "metadata": {},
   "source": [
    "f. Simulate $n_{old}$ transactions with a convert rate of $p_{old}$ under the null.  Store these $n_{old}$ 1's and 0's in **old_page_converted**."
   ]
  },
  {
   "cell_type": "code",
   "execution_count": 26,
   "metadata": {},
   "outputs": [
    {
     "data": {
      "text/plain": [
       "17373"
      ]
     },
     "execution_count": 26,
     "metadata": {},
     "output_type": "execute_result"
    }
   ],
   "source": [
    "old_page_converted=np.random.binomial(N_old,P_old)\n",
    "old_page_converted"
   ]
  },
  {
   "cell_type": "markdown",
   "metadata": {},
   "source": [
    "g. Find $p_{new}$ - $p_{old}$ for your simulated values from part (e) and (f)."
   ]
  },
  {
   "cell_type": "code",
   "execution_count": 27,
   "metadata": {},
   "outputs": [
    {
     "data": {
      "text/plain": [
       "-0.0006971657923160179"
      ]
     },
     "execution_count": 27,
     "metadata": {},
     "output_type": "execute_result"
    }
   ],
   "source": [
    "new_page_converted/N_new - old_page_converted/N_old"
   ]
  },
  {
   "cell_type": "markdown",
   "metadata": {},
   "source": [
    "h. Simulate 10,000 $p_{new}$ - $p_{old}$ values using this same process similarly to the one you calculated in parts **a. through g.** above.  Store all 10,000 values in a numpy array called **p_diffs**."
   ]
  },
  {
   "cell_type": "code",
   "execution_count": 28,
   "metadata": {},
   "outputs": [
    {
     "data": {
      "text/plain": [
       "[0.0014019144260542377,\n",
       " -0.00038065066204379105,\n",
       " 0.0005552077928537985,\n",
       " 0.00025955476129523036,\n",
       " 0.0019115644401865028,\n",
       " -0.0007727347057801953,\n",
       " 0.0024484348426856567,\n",
       " 0.0008442023893042994,\n",
       " -0.0027692012756253825,\n",
       " 0.00047950927112502817,\n",
       " -0.0007868513954187167,\n",
       " -0.002018744885181084,\n",
       " 0.0004727109955209169,\n",
       " -0.0007591347438281881,\n",
       " 0.001023519023608796,\n",
       " -0.0011034159814761052,\n",
       " 0.0038315122044177558,\n",
       " -0.0010480014373859675,\n",
       " 0.0006175502208126543,\n",
       " -0.0005045374039110567,\n",
       " -0.0005182141075986829,\n",
       " -0.0009379687578842388,\n",
       " -0.00011200996347995873,\n",
       " -0.0007937315288741448,\n",
       " 3.224602462105486e-05,\n",
       " 0.0004522820612705425,\n",
       " 0.0007342566837695852,\n",
       " -0.0002635945978468057,\n",
       " -0.001509579196669164,\n",
       " -5.696377972079503e-05,\n",
       " -0.0009108506918315273,\n",
       " -0.00035997103812374087,\n",
       " 0.0024346114770143895,\n",
       " -8.483562015447477e-05,\n",
       " -0.00027747083004704687,\n",
       " 0.0001841069292361358,\n",
       " 0.0010301518781383467,\n",
       " 8.033703856107077e-05,\n",
       " 0.0009338010184399559,\n",
       " -0.0015782253423803488,\n",
       " -5.719059418385353e-05,\n",
       " 0.0009339289213326496,\n",
       " 0.0019455029516780575,\n",
       " 0.0006174172018042351,\n",
       " -0.00038066942113472446,\n",
       " 0.0005212078879737597,\n",
       " -0.0017432291692775215,\n",
       " -0.000765905733481842,\n",
       " 0.0020625863018254864,\n",
       " -0.0017019773598672822,\n",
       " 0.00133977323197991,\n",
       " 0.0011474040601041346,\n",
       " -0.0011034193922199037,\n",
       " -0.0024110676809838416,\n",
       " 0.0010855749490879946,\n",
       " 0.0006104944340512425,\n",
       " 0.00021796869899205762,\n",
       " -0.0005457840972055844,\n",
       " 0.00099599848978707,\n",
       " 0.0002113119692558757,\n",
       " 0.0004175334981252471,\n",
       " 0.0008581860599344016,\n",
       " 0.0009543101051697478,\n",
       " 0.0008031125902247943,\n",
       " -0.0021630230431168435,\n",
       " 0.0014706049114348863,\n",
       " -0.0009588138028788495,\n",
       " 0.0010853566614844462,\n",
       " -0.00042886275738890367,\n",
       " -0.0006077428164863313,\n",
       " -0.0015920060737540237,\n",
       " 0.0008788827375734859,\n",
       " 0.0008240565467897698,\n",
       " -0.00194972867376704,\n",
       " 0.0006173694513909589,\n",
       " -6.400933425078359e-05,\n",
       " -7.786169124439357e-05,\n",
       " -0.0005666393744316184,\n",
       " -0.0015714714064457014,\n",
       " 0.00010133215628312098,\n",
       " 0.00018361578212816587,\n",
       " 0.0005692937857980779,\n",
       " 0.0034049302872057458,\n",
       " 0.00023167609937393974,\n",
       " 0.0001837419796489742,\n",
       " -0.002576117552922405,\n",
       " -0.00164697210503377,\n",
       " 0.00014939588427269335,\n",
       " -0.0028377775010885453,\n",
       " -0.0010345617803927953,\n",
       " -0.00014009156465766281,\n",
       " 0.0007757523613619172,\n",
       " 0.0005829892485766375,\n",
       " -0.0006696213832876469,\n",
       " -0.000910572716211408,\n",
       " -0.0015716027200821936,\n",
       " 0.000686117919416307,\n",
       " -0.002390430691361356,\n",
       " 0.0017325394244773612,\n",
       " 0.0003422135689588601,\n",
       " -0.00011929597544822756,\n",
       " -0.00021530064465037635,\n",
       " 0.00028014058976064127,\n",
       " -6.423273797002971e-05,\n",
       " 0.0006242393526149775,\n",
       " -0.002025725635578776,\n",
       " -0.0023146605440126644,\n",
       " -0.0019571272402808676,\n",
       " -0.0003120710258368298,\n",
       " -0.00011198097215761593,\n",
       " 0.0017530638595542741,\n",
       " -0.002204622748395224,\n",
       " 4.761303609282508e-06,\n",
       " 0.0005899819365776382,\n",
       " 0.0014502134953663787,\n",
       " 0.0010098372038054582,\n",
       " -0.002610502871852438,\n",
       " -0.00012591177625874417,\n",
       " 0.0019594098805725546,\n",
       " -0.0004839072357761681,\n",
       " -0.0006421298407882636,\n",
       " -0.001199475222579141,\n",
       " 0.0016013547330385458,\n",
       " 0.0011676931538584928,\n",
       " -0.0007868974404600937,\n",
       " 0.0009686195018332594,\n",
       " 0.0014018752025004855,\n",
       " -2.9390379370081154e-05,\n",
       " -0.0015163194896285759,\n",
       " -0.0003394994695758158,\n",
       " -0.0007937963330064413,\n",
       " 0.00019764038168394726,\n",
       " -0.0006146263606855579,\n",
       " -0.0016399129075285596,\n",
       " -0.00020190191658288337,\n",
       " 0.0005691982849715255,\n",
       " -8.487995982393859e-05,\n",
       " -0.00012604991138286115,\n",
       " 0.00039698348246978987,\n",
       " -0.000518284027846691,\n",
       " -0.00036685287695108204,\n",
       " -0.0007178829344179211,\n",
       " 0.001154125593972627,\n",
       " 0.0006036449972900565,\n",
       " -0.00018100912117498258,\n",
       " 0.001945791159529614,\n",
       " 0.001326122108870828,\n",
       " -0.0014542396889427323,\n",
       " -1.9738732344315446e-06,\n",
       " -0.0022459086652435317,\n",
       " -0.00035978003647064993,\n",
       " 0.0005140395466667891,\n",
       " -0.0011995809556371168,\n",
       " -0.001364912213939598,\n",
       " 0.00048657017400213776,\n",
       " 0.0006654246525210211,\n",
       " -0.000786646750790404,\n",
       " 0.0002594302691463213,\n",
       " -0.0002979372824792881,\n",
       " 0.0009408960287551199,\n",
       " 0.00032131906817907396,\n",
       " 0.0031019810114474855,\n",
       " 0.00015586843384339522,\n",
       " -0.00029790658578503215,\n",
       " 0.00048670148763864385,\n",
       " -0.000359757866635918,\n",
       " -0.002211439783090255,\n",
       " -0.0011171455516927192,\n",
       " -9.876301351179062e-05,\n",
       " 0.0018906443588281863,\n",
       " 0.00016332157225810995,\n",
       " 0.0010644263478947064,\n",
       " -0.0006216412185213183,\n",
       " -0.00031863396011835854,\n",
       " 0.00045233492779953033,\n",
       " 0.0016841039254130163,\n",
       " 0.001360659205900186,\n",
       " 0.0005072566194098127,\n",
       " -0.00045631507633452084,\n",
       " 0.0020213515461342674,\n",
       " 0.0022141948113989784,\n",
       " -0.00010504967754511318,\n",
       " 0.002702955440867169,\n",
       " 0.0017804087400700302,\n",
       " -0.0003188232563995502,\n",
       " 0.0013815264207295286,\n",
       " 0.00047995778393541966,\n",
       " 0.0008032132071670584,\n",
       " 0.00036953969038368284,\n",
       " -0.0014133630613510778,\n",
       " 0.000858134898777313,\n",
       " -0.0001745041695381394,\n",
       " -1.572049717006585e-05,\n",
       " 0.0006998219090543767,\n",
       " 0.0018494181299964774,\n",
       " -0.0013098694409242467,\n",
       " -0.00020859445912901897,\n",
       " -0.0001534135509895368,\n",
       " -5.037526486070809e-05,\n",
       " 0.002530692887952171,\n",
       " -0.00018772383355586397,\n",
       " -0.0018192039612545396,\n",
       " -0.00136466664038562,\n",
       " 0.0008169308397803499,\n",
       " -0.003409108258881438,\n",
       " -0.0022733661003048605,\n",
       " 0.0003900948221548517,\n",
       " 0.0009822518658514218,\n",
       " -0.000965497818565475,\n",
       " 0.0017186495493018983,\n",
       " 0.0007756022886344915,\n",
       " 0.0002593944563363815,\n",
       " 2.5304497777128843e-05,\n",
       " 0.0013057068175956615,\n",
       " 0.0008170109922597674,\n",
       " 0.00025277695015395174,\n",
       " -0.0006627753572702733,\n",
       " 0.0020490886621876286,\n",
       " 0.0008579814153060888,\n",
       " 0.0002798643195124073,\n",
       " -0.0007591006363901198,\n",
       " 0.0007068862226752848,\n",
       " -0.002652126452337464,\n",
       " -0.0013031086835020023,\n",
       " 0.0029573703059907197,\n",
       " -0.0016331981951476782,\n",
       " -0.0010207639953000863,\n",
       " 0.0005274502123376046,\n",
       " 0.0013469313410554712,\n",
       " 0.0012363154243630325,\n",
       " 3.236710602613768e-05,\n",
       " 0.0015877394227393898,\n",
       " 0.001835448102341583,\n",
       " 0.00017691300735062088,\n",
       " 0.001456911154028226,\n",
       " -5.0467354943461995e-05,\n",
       " 0.0025101855065942785,\n",
       " 0.002620163614195134,\n",
       " -0.0014404299662467146,\n",
       " -0.0008348741944826099,\n",
       " -0.00011217197381072075,\n",
       " -0.000869436872090526,\n",
       " -0.0005112521162919242,\n",
       " -0.0014887273301869286,\n",
       " -0.0017159559143816727,\n",
       " -0.0015577981135018737,\n",
       " -0.001901644481314621,\n",
       " 0.0006378938864678718,\n",
       " -0.0006972033104978709,\n",
       " -0.0008830743522244139,\n",
       " -0.0013238667545295707,\n",
       " 0.0014086871210798046,\n",
       " 0.0013468494832041544,\n",
       " -0.0003600273153965272,\n",
       " -0.0004218427834374455,\n",
       " -0.0007316261476097707,\n",
       " 0.00012871626035264316,\n",
       " 0.0007413295242500173,\n",
       " -0.0003805807417957968,\n",
       " 0.00019748348746891076,\n",
       " 0.00015615493632303856,\n",
       " -0.00020181323724392797,\n",
       " -0.0004218871231069232,\n",
       " 0.00031433320166567025,\n",
       " 0.0029366071188474396,\n",
       " 0.0020284005114080683,\n",
       " -0.0015784299870086616,\n",
       " -0.0005182652687557576,\n",
       " -0.0007866876797160555,\n",
       " 0.0026201295067570657,\n",
       " 0.0023037900297908365,\n",
       " 0.001415746318585015,\n",
       " 0.0015599886637108207,\n",
       " 0.0008444223822797331,\n",
       " -0.0002565405164573209,\n",
       " 0.0007550505676071351,\n",
       " -0.00014677558034428828,\n",
       " 0.0006793077062088732,\n",
       " 0.0017185966827729243,\n",
       " 0.0020491125373942737,\n",
       " -0.0009176540835513364,\n",
       " -0.0014197179402604954,\n",
       " -0.0014404606629409428,\n",
       " 0.0002525927699884717,\n",
       " -0.0024177482859266824,\n",
       " 0.0001634921094483821,\n",
       " -0.0008281611874736416,\n",
       " -0.0008485082638726993,\n",
       " -0.0012615157997112186,\n",
       " -0.000366767608355939,\n",
       " 0.00021137677338817218,\n",
       " 0.0011955308868541042,\n",
       " -0.00011896001718339488,\n",
       " 0.00023875746671388198,\n",
       " -0.0006768170105450749,\n",
       " -0.002734642008761279,\n",
       " -4.3486604545769914e-05,\n",
       " -0.0008485150853603102,\n",
       " 0.001243444542116251,\n",
       " 0.0019113154558887263,\n",
       " -0.0005805531248137125,\n",
       " -0.0011790138862626254,\n",
       " -0.0016538351847701915,\n",
       " -0.0017986027844419938,\n",
       " -0.00251434812992285,\n",
       " 0.0012917879510978697,\n",
       " -0.0023214332390382453,\n",
       " 0.0013469364571711828,\n",
       " 0.0014982192407112654,\n",
       " -0.0025417731629180373,\n",
       " -0.0011929617440827878,\n",
       " -0.002218016360347033,\n",
       " 0.00076897113947684,\n",
       " 0.00041768186548077346,\n",
       " -0.002245978585491526,\n",
       " 0.0013400597344595533,\n",
       " 0.00048664691573775676,\n",
       " 0.002103810825285296,\n",
       " -0.0009793450594433734,\n",
       " -0.00029844718867817754,\n",
       " -0.0002153466896917533,\n",
       " 0.0007066849887907845,\n",
       " 1.8545445726783627e-05,\n",
       " -0.000160694446842094,\n",
       " 0.0007687272712947613,\n",
       " 0.00030754174754916985,\n",
       " -0.002032191363661867,\n",
       " 0.0014981953655046204,\n",
       " -0.0007316380852130933,\n",
       " -0.0008967834579781953,\n",
       " 0.00010120425339042727,\n",
       " 0.0007687392088980699,\n",
       " -0.0002564603639778895,\n",
       " 0.0002182449692402777,\n",
       " 0.0003005951045895461,\n",
       " -0.0007523944508687624,\n",
       " -0.0008897020906382391,\n",
       " 7.369736254390913e-05,\n",
       " -0.0014957848223202397,\n",
       " 0.0016361749218037486,\n",
       " -1.5636933946835962e-05,\n",
       " -0.0009794934267988997,\n",
       " 0.0014500600118951407,\n",
       " -0.0009243005810561089,\n",
       " -0.0009930405222219468,\n",
       " -0.0014678856959361303,\n",
       " -0.0016813540132200183,\n",
       " -0.0007588942863899079,\n",
       " 0.00018357655857441368,\n",
       " -0.0007041789447798652,\n",
       " -0.0008347292378709098,\n",
       " -0.0010070361304553715,\n",
       " 0.0006793384029031291,\n",
       " -0.0024935747105481465,\n",
       " 3.229036429053256e-05,\n",
       " 0.0007478873424158622,\n",
       " 0.0028059596195579434,\n",
       " -0.0001739277538350542,\n",
       " -0.0005319112757491556,\n",
       " 0.0005966096749914773,\n",
       " -0.0008143497594057109,\n",
       " 0.0008167978207719445,\n",
       " -0.00016028345221355544,\n",
       " -0.0004908743431986246,\n",
       " 0.0009407902956971581,\n",
       " 0.0002110425204952665,\n",
       " -0.0007386239517264831,\n",
       " 0.000961621697716547,\n",
       " -0.002493893615093945,\n",
       " 0.0017392404938830208,\n",
       " -0.0015505922540130501,\n",
       " 0.0001696440491013862,\n",
       " -0.0018398648260836703,\n",
       " 0.000755042040747611,\n",
       " -0.00015365230305591782,\n",
       " -0.000669445729981677,\n",
       " 0.0014159356148662067,\n",
       " -0.0008346593176228878,\n",
       " -0.0022044641488082883,\n",
       " -0.0006837687696204242,\n",
       " 0.001478035880014869,\n",
       " -0.001302714742592484,\n",
       " 0.0008787889421188327,\n",
       " -0.0011516945863254135,\n",
       " 0.001450193030903546,\n",
       " 0.0021590565375570747,\n",
       " 0.0026958638412958175,\n",
       " -0.001867434815690558,\n",
       " 0.00030762701614431287,\n",
       " 0.000534656071826442,\n",
       " -0.002142739065478197,\n",
       " 0.0007343266040176072,\n",
       " 0.0005900791427760899,\n",
       " 0.0018909427989111383,\n",
       " 0.002647544307520844,\n",
       " 0.0004318070819788189,\n",
       " -0.0010689419832071306,\n",
       " 0.00041093816177756315,\n",
       " -0.0012134418394902369,\n",
       " -0.0015301394445560307,\n",
       " 0.0009269873944887236,\n",
       " 0.00030781290168170605,\n",
       " -0.0011792458168413955,\n",
       " -9.161854741145115e-05,\n",
       " -0.0013648678742701342,\n",
       " -0.0005803177834911438,\n",
       " 0.0010716680201935114,\n",
       " -0.0008209723817038383,\n",
       " -0.0005254438422941515,\n",
       " 0.0006723457149021284,\n",
       " 0.0008652759541338539,\n",
       " 0.0018425448180286602,\n",
       " 0.000768740914269983,\n",
       " 0.0003419679954048821,\n",
       " -0.0018467671293738303,\n",
       " 0.0006586076178259903,\n",
       " 0.002282869948432506,\n",
       " 0.0005897227200484384,\n",
       " 5.972392414521632e-05,\n",
       " -0.00027054465155025575,\n",
       " 0.001532708587327361,\n",
       " 0.002103971130244145,\n",
       " -0.0010484499501963729,\n",
       " 0.00023866367125922883,\n",
       " -0.00027754416103886737,\n",
       " 0.0007414642486303219,\n",
       " 0.0006309438327644357,\n",
       " 0.00033520041649501287,\n",
       " 0.0008510978711068484,\n",
       " -0.0021840403306736256,\n",
       " 0.0023794083990401754,\n",
       " -0.0013096818500149543,\n",
       " -0.00011207647298415446,\n",
       " -0.0009246177802300082,\n",
       " -0.0019842333687302427,\n",
       " 0.000534778858603438,\n",
       " -0.0010621454129749325,\n",
       " 0.00010118378892759461,\n",
       " -0.0007315323521551315,\n",
       " -0.001124054676470504,\n",
       " 0.0009820864447768612,\n",
       " 0.001291910737874838,\n",
       " 0.0006930440979131119,\n",
       " 0.00015610718590976236,\n",
       " -0.001220083220879284,\n",
       " 0.0008516367686280807,\n",
       " -0.0005253057071700346,\n",
       " -0.0005592783260996437,\n",
       " -0.0014473459125120824,\n",
       " -0.001048443128708762,\n",
       " -0.0007868121718649507,\n",
       " 0.0005347430457934704,\n",
       " -0.00011888498081968901,\n",
       " -0.00016047956998235802,\n",
       " -0.001213327579572765,\n",
       " -0.0020531881867558027,\n",
       " 0.0005345912676941456,\n",
       " 0.0006861400892510389,\n",
       " -0.0001053754035785226,\n",
       " -0.000848574773376895,\n",
       " 0.00024546024149145473,\n",
       " 0.0012782732577409778,\n",
       " -1.5710264938642582e-05,\n",
       " -1.563522857493671e-05,\n",
       " 0.001215825096724174,\n",
       " 0.0003211894599144671,\n",
       " 0.001498198776248419,\n",
       " -0.0024043853706691293,\n",
       " -0.0013169303438013563,\n",
       " -1.6059866178683158e-05,\n",
       " 0.0023589845809055265,\n",
       " -0.0007938321458164088,\n",
       " 0.0004659996938838479,\n",
       " -0.0002704065164261388,\n",
       " 0.0002593518220388169,\n",
       " 0.002599577785729723,\n",
       " 0.0015533285232308264,\n",
       " -0.001522916531348173,\n",
       " 0.0008928953995259448,\n",
       " -0.0007040766224657019,\n",
       " 0.0007896013076117148,\n",
       " -0.0005114516448045253,\n",
       " -0.001000236149479361,\n",
       " 0.0030262552037682716,\n",
       " -0.0007454631562562458,\n",
       " 0.0006382383715922146,\n",
       " 0.0008444087393045113,\n",
       " -0.0023836597017076883,\n",
       " -0.0001331722076484687,\n",
       " -0.0016127590286659083,\n",
       " -0.000862249771692622,\n",
       " 0.0002113085585120772,\n",
       " 0.00014239296404026935,\n",
       " 0.0003970244113954552,\n",
       " 1.858978539624745e-05,\n",
       " -0.0003668102426535036,\n",
       " -0.0011720570110715783,\n",
       " 0.000885701477640416,\n",
       " 0.0012985043688506365,\n",
       " 0.0018286106031837196,\n",
       " -0.00041522868799882817,\n",
       " -0.0021770442319288125,\n",
       " -0.0036158686852720556,\n",
       " -0.0013991389332826953,\n",
       " -0.0003324624419053235,\n",
       " 0.0012918015940730776,\n",
       " -0.0010757266158360201,\n",
       " -0.0011926513663964994,\n",
       " -0.00038063701906858316,\n",
       " 0.00021145010437999268,\n",
       " -0.0007935388218491407,\n",
       " -0.0011860116903793516,\n",
       " 0.0016015900743611006,\n",
       " -0.0008969778703750847,\n",
       " -0.0020534559301445265,\n",
       " 0.00019759263127067106,\n",
       " 0.0005074834338728573,\n",
       " -0.0008553918080719258,\n",
       " 0.0005277094288668044,\n",
       " 0.001298930711826296,\n",
       " -0.0005185722356982336,\n",
       " -6.413041565588029e-05,\n",
       " 5.27789865574918e-05,\n",
       " 0.0011953859302423903,\n",
       " 0.0016771658093128888,\n",
       " 0.0011402067274748073,\n",
       " 0.0011267193200683728,\n",
       " 0.001925010918667286,\n",
       " -0.0014130151654829365,\n",
       " 0.00041072328491784105,\n",
       " 0.0006173523976719386,\n",
       " -0.001585212914265638,\n",
       " -0.000669599213452915,\n",
       " 0.00028000757075222205,\n",
       " -0.0022389500846805716,\n",
       " -0.0012893501219630316,\n",
       " -0.0010346641027069586,\n",
       " 0.0008100848137629624,\n",
       " -0.00042877407804996215,\n",
       " -7.7972540418067e-05,\n",
       " 0.0006102949055386275,\n",
       " 0.00035566175281152856,\n",
       " 0.00025276160180681684,\n",
       " 0.00010815260172195029,\n",
       " 0.002812967655906079,\n",
       " 0.0014913800361814888,\n",
       " 0.0006656344132650455,\n",
       " 0.0005140037338568354,\n",
       " 0.000176829444127391,\n",
       " 0.0019112932860539944,\n",
       " -0.0017640742142721322,\n",
       " 0.0012437498036868277,\n",
       " -0.0007659432516636949,\n",
       " 0.0013815127777543068,\n",
       " -0.0007384687628833458,\n",
       " -0.0004701674333281308,\n",
       " -0.0006490236172189273,\n",
       " 0.0031429463183780953,\n",
       " 0.0002593944563363815,\n",
       " 0.0005138093214599321,\n",
       " 0.00046596899718959195,\n",
       " -2.2556290956030067e-05,\n",
       " -0.000490702100636467,\n",
       " -0.0008007276276189579,\n",
       " -0.0024453438561121282,\n",
       " -0.0017849311968700793,\n",
       " 0.0019250927765186165,\n",
       " -0.00028422476598169433,\n",
       " -0.000683789234083243,\n",
       " 0.0018007558164690879,\n",
       " 0.0007759331307835987,\n",
       " -0.0008212350089768505,\n",
       " -0.0002978690676031792,\n",
       " 0.0004861847599521435,\n",
       " 0.0016910147555626864,\n",
       " 0.00202146410067984,\n",
       " -0.00219089317817861,\n",
       " 0.00034189636978497473,\n",
       " 0.0009684114464611343,\n",
       " 0.00031452249794686193,\n",
       " 0.0007549328969458369,\n",
       " 0.0013676535992730998,\n",
       " 0.001002788238531671,\n",
       " -0.0010138616920099264,\n",
       " 0.0009200765643390535,\n",
       " -0.00020166486988841548,\n",
       " -0.0011583052710202185,\n",
       " -5.7263925175674024e-05,\n",
       " -1.5933668657902578e-05,\n",
       " -0.0012067203056217446,\n",
       " -0.0010829597612753011,\n",
       " -0.001887846696221912,\n",
       " 0.0006106700873572124,\n",
       " 0.002214169230820434,\n",
       " 0.004347888868534225,\n",
       " 0.00014243218759402154,\n",
       " 0.0007620773630461763,\n",
       " -0.0009242596521304575,\n",
       " -0.0011653030751369448,\n",
       " -0.0012341146419226762,\n",
       " -0.0003255004505985787,\n",
       " -0.0006355634957629225,\n",
       " 0.00033530614955297466,\n",
       " -0.0024387792164586725,\n",
       " -0.0015296755833985043,\n",
       " 0.0011954319752837533,\n",
       " -0.001179187834196696,\n",
       " -0.0007454443971653263,\n",
       " -0.0013512031081858167,\n",
       " -0.00016045910551953924,\n",
       " 0.0002940168219608824,\n",
       " -0.0016469874533809048,\n",
       " 0.000300617274424278,\n",
       " -0.002844800885783816,\n",
       " -0.001110316579394366,\n",
       " -0.0005252698943600809,\n",
       " -7.787021810391759e-05,\n",
       " -0.0007936718408575599,\n",
       " -0.0025417185910171503,\n",
       " 0.0001491349623715943,\n",
       " -0.0008624356572300151,\n",
       " -0.0010068877630998452,\n",
       " 4.610861384607423e-05,\n",
       " -0.0013652055379068523,\n",
       " 0.0019181648926499262,\n",
       " -0.001970628290662524,\n",
       " -0.0013923986403232835,\n",
       " -0.0009176336190885176,\n",
       " -0.0002981487485952117,\n",
       " 0.0004248024563744818,\n",
       " 0.0012437105801330617,\n",
       " 0.0012022404831192879,\n",
       " -0.0019844533617056903,\n",
       " 0.0006930850268387634,\n",
       " -0.00088970891212585,\n",
       " 0.0018493328614013343,\n",
       " -0.0003188403101185844,\n",
       " -0.0013511007858716673,\n",
       " 0.0008581604793558573,\n",
       " -0.00241096194792588,\n",
       " 0.00019065622054245668,\n",
       " -0.000559755830232378,\n",
       " 0.0010921583478323699,\n",
       " -2.9588202510796857e-05,\n",
       " 0.0017392916550400955,\n",
       " 0.0005552828292175183,\n",
       " 0.0005001530822351247,\n",
       " -0.0017156046077697468,\n",
       " 0.0016566635440707078,\n",
       " -0.00048388336056953696,\n",
       " 0.0005759556316499714,\n",
       " -0.0006146331821731688,\n",
       " -0.0005323393240967006,\n",
       " 0.0006245070960037014,\n",
       " 0.0010989532126926549,\n",
       " -0.0009311022674040326,\n",
       " -5.719229955575278e-05,\n",
       " 0.0008996936751300422,\n",
       " 0.00010776207155625828,\n",
       " 0.0008790311049290123,\n",
       " -0.0007523620488026073,\n",
       " 0.0006173029418867632,\n",
       " 0.0006033533786947154,\n",
       " -0.0016264306162378228,\n",
       " 0.0013399250100792348,\n",
       " 0.0005419352623070861,\n",
       " 0.0007276374722152701,\n",
       " 0.0006448507616589189,\n",
       " 0.0012162787256502633,\n",
       " -0.0008556373816259039,\n",
       " 0.0008790021136066695,\n",
       " 0.0013261033497798808,\n",
       " -0.0006352650556799566,\n",
       " 0.0014293206999584918,\n",
       " 0.0001631271598612205,\n",
       " -0.0003325664695913999,\n",
       " -5.021666527377233e-05,\n",
       " -0.002170290295994179,\n",
       " 0.00043151546338345004,\n",
       " -0.00019482225461484037,\n",
       " 0.0011402442456566603,\n",
       " 0.0007894546456280876,\n",
       " -0.0005804081682019846,\n",
       " -0.0012960017355835157,\n",
       " 0.0010371070479574945,\n",
       " 0.0010370217793623654,\n",
       " -0.0006699130018830018,\n",
       " -0.0011653184234840658,\n",
       " -0.0017021854152393934,\n",
       " -0.0001189685440429189,\n",
       " -0.0009730208772281979,\n",
       " 0.0018290574106222257,\n",
       " 0.0008446526074865901,\n",
       " 0.00140200140002128,\n",
       " 0.0013810676756877277,\n",
       " 0.0008304796405752823,\n",
       " -0.001344164375143439,\n",
       " -0.0024245567937621892,\n",
       " 0.00027298248068506614,\n",
       " 0.0008649382904971359,\n",
       " 0.0003834380924186698,\n",
       " 0.0002183268270916222,\n",
       " 0.0007203668085941362,\n",
       " -0.000779957618988053,\n",
       " -0.0026038018024467924,\n",
       " 0.0014433316565390514,\n",
       " 9.410412695955161e-05,\n",
       " 0.0007481687287797939,\n",
       " 0.00019750224655983029,\n",
       " -0.001750189455212381,\n",
       " -0.0006354424143578397,\n",
       " -0.00018798475545696303,\n",
       " -0.0006283542255302865,\n",
       " 0.0018906614125472065,\n",
       " 0.0003146162934015151,\n",
       " 0.0004933479851434164,\n",
       " 0.0005417561982573177,\n",
       " -0.001117021059543838,\n",
       " 0.00027328603688374364,\n",
       " 0.00025305151503027257,\n",
       " -0.0012340856506003334,\n",
       " -0.0005661891562493138,\n",
       " -0.0010894527753088218,\n",
       " -0.00065558655150047,\n",
       " -0.0018673563685830397,\n",
       " -0.0006628009378488176,\n",
       " -0.0011792355846099722,\n",
       " 0.0009824292245293048,\n",
       " -0.0012410186505847492,\n",
       " -0.00046326342466605774,\n",
       " 0.0003215100698321788,\n",
       " -0.0021565743687527728,\n",
       " 0.0015394250050801417,\n",
       " 0.0004246029278618668,\n",
       " -0.002128719582038141,\n",
       " -0.00020859275375711972,\n",
       " -0.002541800448868467,\n",
       " 0.0001769095966068085,\n",
       " -0.001227318071690478,\n",
       " 0.0009961929021839733,\n",
       " 0.001106148839950083,\n",
       " -0.000883082879083924,\n",
       " -0.0006492606639133952,\n",
       " -8.470601188986793e-05,\n",
       " -0.0017158842887617654,\n",
       " 0.0002111482535532283,\n",
       " -0.0002910929618338137,\n",
       " -0.00015323960305546613,\n",
       " 0.0003421402379670535,\n",
       " -0.0008143804560999529,\n",
       " -0.0003738540918115929,\n",
       " -0.0009039483885413674,\n",
       " 0.0007480016023333341,\n",
       " 0.001808011131743087,\n",
       " 0.0016085111367422078,\n",
       " -0.001529864879679696,\n",
       " 0.00030762701614431287,\n",
       " -0.0003395318716419571,\n",
       " 0.000789265349346896,\n",
       " 0.0011401675039210551,\n",
       " 0.0006585632781565126,\n",
       " 8.7479799289511e-05,\n",
       " -0.00040119726695544977,\n",
       " 0.001002955364978117,\n",
       " 0.0004588842191058512,\n",
       " -0.0012478527389988003,\n",
       " -0.0010825999278038373,\n",
       " 0.0008101189212010307,\n",
       " -0.0008555214163365188,\n",
       " 0.0022415755047246883,\n",
       " -0.0018193915521638182,\n",
       " 0.00035577089661330275,\n",
       " -0.0015505990755006471,\n",
       " -0.00022232914546134463,\n",
       " -0.0014751069037720888,\n",
       " -0.0008626761146682815,\n",
       " 0.0022279960072355,\n",
       " 0.0015740439599608302,\n",
       " -0.0008489533659392784,\n",
       " 0.00031451908720306343,\n",
       " -0.0006143927247349024,\n",
       " -0.0004083621975186219,\n",
       " 0.001264422606119267,\n",
       " 0.0003969920093293,\n",
       " -0.0011583427892020853,\n",
       " 0.0003623082503163011,\n",
       " 0.0011746551451652515,\n",
       " -0.000670059663866629,\n",
       " -0.0017709645799589835,\n",
       " 0.0010232956198895499,\n",
       " 0.00031469474050903334,\n",
       " -0.0010209038357960887,\n",
       " 0.002145572540894425,\n",
       " 0.0007689984254272697,\n",
       " 0.0009617223146587972,\n",
       " 0.0002802480281905023,\n",
       " -0.0005458182046436388,\n",
       " -4.3617918182276005e-05,\n",
       " -0.0006077189412797002,\n",
       " 0.0012438111970753257,\n",
       " 0.00023176818945667976,\n",
       " 0.0013053640378432319,\n",
       " -7.100372762369744e-05,\n",
       " -0.002245842155739322,\n",
       " -0.0013167529851234872,\n",
       " 0.0007827092365529642,\n",
       " 0.00043838536460748256,\n",
       " -0.0007180773468148383,\n",
       " -0.002018760233528205,\n",
       " -2.9571148791762703e-05,\n",
       " -0.00021538591324551937,\n",
       " -0.001213794851474076,\n",
       " -0.0011999254407614457,\n",
       " -0.00031149631550564383,\n",
       " -0.0024112518611493355,\n",
       " 0.00020432269199867348,\n",
       " 0.002723433830902705,\n",
       " 0.0007413516940847631,\n",
       " -0.0001534766497499479,\n",
       " -0.0015094871065864102,\n",
       " 0.000789510922900874,\n",
       " 0.0018148435147852526,\n",
       " -0.0018120850757327306,\n",
       " -2.2972401700266376e-05,\n",
       " -0.001585289656001257,\n",
       " 0.001649846509375677,\n",
       " -0.00060112019418819,\n",
       " 0.0012093406095501497,\n",
       " -0.003120127305406173,\n",
       " -0.0010620277423136343,\n",
       " 0.0018908831108945534,\n",
       " -0.0006008882636094337,\n",
       " 0.0011472949163023605,\n",
       " -4.328025454554407e-05,\n",
       " -0.0003394636567658621,\n",
       " 0.00041102513574459154,\n",
       " -0.00018796258562223112,\n",
       " 0.0008719241570105257,\n",
       " -0.0017711692245872962,\n",
       " -0.0014268436472699014,\n",
       " 0.0007000998846745099,\n",
       " 0.0002181392361823159,\n",
       " -0.0011102978203034464,\n",
       " 0.0003076645343261658,\n",
       " -0.00013960382829350526,\n",
       " 0.001009651318268065,\n",
       " -0.0023078452146895467,\n",
       " 0.0005143107007992975,\n",
       " -0.000862357210122483,\n",
       " 0.0003351185586436961,\n",
       " -0.0005595921145297306,\n",
       " -0.0022391786045155293,\n",
       " -0.0003322219844670571,\n",
       " -0.0005112947505894888,\n",
       " -0.0008762095671161069,\n",
       " -0.0002842008907750493,\n",
       " 0.0006929792937808016,\n",
       " -0.001516297319793844,\n",
       " 0.00013542585661781292,\n",
       " 0.0007688807547659993,\n",
       " -0.0006008558615432924,\n",
       " -0.0007936633139980359,\n",
       " 0.00047299067651294935,\n",
       " 0.0011402084328467205,\n",
       " -0.0023969561074610457,\n",
       " 0.0007824807167180065,\n",
       " 0.0020837093224402303,\n",
       " 0.0004657490042141582,\n",
       " 6.677118404710414e-05,\n",
       " 0.0009959490340018945,\n",
       " -0.0009523003243824824,\n",
       " 0.0005829414981633613,\n",
       " -0.0008074048218179725,\n",
       " 0.00017694882016057456,\n",
       " -0.0004150734991557048,\n",
       " 6.67916485099368e-05,\n",
       " 0.00414139789090423,\n",
       " 0.0012850135507003896,\n",
       " -0.002355931112513851,\n",
       " -0.001750296893642242,\n",
       " -0.0001396959183762453,\n",
       " 0.0008513980165617135,\n",
       " -9.270117434095893e-06,\n",
       " -0.0006286066205718754,\n",
       " -0.0006763633816189718,\n",
       " 0.0015876149305905085,\n",
       " 0.0020145737349929888,\n",
       " -0.002830887135401708,\n",
       " -0.00254878802075377,\n",
       " 0.0001357089483536439,\n",
       " -0.0009311193211230528,\n",
       " -0.00020828919755844222,\n",
       " 0.0003556634581834417,\n",
       " 0.0022486790418993624,\n",
       " -0.001970628290662524,\n",
       " -0.0017709714014465944,\n",
       " -0.0005455999170401044,\n",
       " -0.00026368327718574724,\n",
       " 0.00029386504386154366,\n",
       " -0.00011899071387765081,\n",
       " 7.362744229591489e-05,\n",
       " 0.0008101393856638495,\n",
       " 0.00019746302300606422,\n",
       " 0.001505372233671115,\n",
       " -0.0005322387071544643,\n",
       " 0.0001561310611164074,\n",
       " -7.092016440046756e-05,\n",
       " -0.00039440581283896325,\n",
       " -2.362698028224308e-06,\n",
       " 0.0010441150843056302,\n",
       " 0.0008032285555141794,\n",
       " 0.0023170676764532466,\n",
       " -0.0006492811283762279,\n",
       " -0.001330312018149843,\n",
       " -0.0014130509782928902,\n",
       " -0.001598927136135131,\n",
       " -0.0007456660955126732,\n",
       " -5.060549006757897e-05,\n",
       " 0.0008514423562311774,\n",
       " 0.0005072191012279459,\n",
       " 0.0014913953845286099,\n",
       " -7.785316438488343e-05,\n",
       " -0.00039417217688829387,\n",
       " -0.0007868104664930514,\n",
       " 0.00037678818417008486,\n",
       " 0.0015465012563043723,\n",
       " -0.0014748238120362578,\n",
       " 0.0004796269417862986,\n",
       " -0.00043575823919145273,\n",
       " -0.0002290165718917686,\n",
       " 0.0016909840588684444,\n",
       " 0.0003970585188335235,\n",
       " -0.00022214496529586458,\n",
       " -9.036481483440384e-06,\n",
       " 0.00048653265582027094,\n",
       " 0.0003974558704868264,\n",
       " 0.0010440025297600575,\n",
       " 0.0007137049627422426,\n",
       " 0.0017323518335680688,\n",
       " 0.00215901390325951,\n",
       " 0.0021383837351246354,\n",
       " -0.0013714137548326566,\n",
       " 0.0004588995674529722,\n",
       " -0.0019085075610510427,\n",
       " 0.00035590732636552047,\n",
       " -0.0007730536103259938,\n",
       " 0.0021934469726028055,\n",
       " 0.0001836021391529441,\n",
       " -0.0019704031815713785,\n",
       " -0.0011517150507882462,\n",
       " 0.0011750780773971126,\n",
       " 0.0012092536355831074,\n",
       " -0.0008140342656037108,\n",
       " -0.001254792560470841,\n",
       " -0.0015645247634860637,\n",
       " 0.0016499181349955844,\n",
       " 0.0002456478324007333,\n",
       " 0.0014018035768805642,\n",
       " -0.0010620294476855474,\n",
       " 0.00012166047359123133,\n",
       " -0.0005044384923406919,\n",
       " 0.0012642742387637407,\n",
       " -0.0005732756397049676,\n",
       " 0.00047955190542259274,\n",
       " 0.001408857658270063,\n",
       " 0.0004659024876853962,\n",
       " -0.0020464069648707256,\n",
       " -2.269613145203242e-05,\n",
       " 0.0024895996781288676,\n",
       " 0.00021833876469493085,\n",
       " -0.00035995568977661985,\n",
       " -0.00020841539507923668,\n",
       " 0.00022522230889417127,\n",
       " 0.0001767492916479596,\n",
       " 0.0010787186908391977,\n",
       " 0.00021138359487578307,\n",
       " 0.0001218088409467577,\n",
       " -0.00035982778688392614,\n",
       " -0.0010343469035330732,\n",
       " 0.002585716901876603,\n",
       " 0.0014640010482276922,\n",
       " 0.002833507439330113,\n",
       " 0.0014503823271847516,\n",
       " 0.0004245125431510399,\n",
       " -0.0004285029239174537,\n",
       " -5.0189379323328787e-05,\n",
       " -0.00034634379022129014,\n",
       " -0.0017983606216318282,\n",
       " -0.00013977948159947517,\n",
       " -0.00037347549924920953,\n",
       " -0.0004977237799598244,\n",
       " 4.6263802689225364e-05,\n",
       " 0.0002937422570845477,\n",
       " -0.0008901301389858118,\n",
       " -0.0004976385113646814,\n",
       " -0.000504723289448436,\n",
       " -0.0010274002605734356,\n",
       " -0.0005598052860175395,\n",
       " 0.00030054223806055824,\n",
       " -0.00011200484736426097,\n",
       " ...]"
      ]
     },
     "execution_count": 28,
     "metadata": {},
     "output_type": "execute_result"
    }
   ],
   "source": [
    "p_diffs=[]\n",
    "for _ in range(10000):\n",
    "    new_page_converted=np.random.binomial(N_new,P_new)\n",
    "    old_page_converted=np.random.binomial(N_old,P_old)\n",
    "    diff=new_page_converted/N_new - old_page_converted/N_old\n",
    "    \n",
    "    p_diffs.append(diff)\n",
    "p_diffs"
   ]
  },
  {
   "cell_type": "markdown",
   "metadata": {},
   "source": [
    "i. Plot a histogram of the **p_diffs**.  Does this plot look like what you expected?  Use the matching problem in the classroom to assure you fully understand what was computed here."
   ]
  },
  {
   "cell_type": "code",
   "execution_count": 29,
   "metadata": {},
   "outputs": [
    {
     "data": {
      "text/plain": [
       "(array([   6.,  103.,  537., 1492., 2729., 2706., 1650.,  622.,  137.,\n",
       "          18.]),\n",
       " array([-4.50332745e-03, -3.61476865e-03, -2.72620985e-03, -1.83765105e-03,\n",
       "        -9.49092255e-04, -6.05334547e-05,  8.28025345e-04,  1.71658414e-03,\n",
       "         2.60514294e-03,  3.49370174e-03,  4.38226054e-03]),\n",
       " <a list of 10 Patch objects>)"
      ]
     },
     "execution_count": 29,
     "metadata": {},
     "output_type": "execute_result"
    },
    {
     "data": {
      "image/png": "[encoded data removed]",
      "text/plain": [
       "<matplotlib.figure.Figure at 0xbddbef0>"
      ]
     },
     "metadata": {},
     "output_type": "display_data"
    }
   ],
   "source": [
    "plt.hist(p_diffs)"
   ]
  },
  {
   "cell_type": "markdown",
   "metadata": {},
   "source": [
    "j. What proportion of the **p_diffs** are greater than the actual difference observed in **ab_data.csv**?"
   ]
  },
  {
   "cell_type": "code",
   "execution_count": 30,
   "metadata": {},
   "outputs": [
    {
     "name": "stdout",
     "output_type": "stream",
     "text": [
      "-0.0015782389853555567\n"
     ]
    },
    {
     "data": {
      "text/plain": [
       "0.9054"
      ]
     },
     "execution_count": 30,
     "metadata": {},
     "output_type": "execute_result"
    }
   ],
   "source": [
    "actual_diff=df2[df2['group']=='treatment']['converted'].mean()- df2[df2['group']=='control']['converted'].mean()\n",
    "print(actual_diff)\n",
    "p_diff=np.array(p_diffs)\n",
    "(actual_diff< p_diff).mean()"
   ]
  },
  {
   "cell_type": "markdown",
   "metadata": {},
   "source": [
    "k. In words, explain what you just computed in part **j.**  What is this value called in scientific studies?  What does this value mean in terms of whether or not there is a difference between the new and old pages?"
   ]
  },
  {
   "cell_type": "markdown",
   "metadata": {},
   "source": [
    "**This is called p-value.**\n",
    "\n",
    "> A p value is the probability value that comes when the null hypothesis is true.\n",
    "\n",
    ">  Here the p value is very high, almost 1, hence it indicates weak evidence against nul hypothesis, so we fail to reject the null hypothesis."
   ]
  },
  {
   "cell_type": "markdown",
   "metadata": {},
   "source": [
    "l. We could also use a built-in to achieve similar results.  Though using the built-in might be easier to code, the above portions are a walkthrough of the ideas that are critical to correctly thinking about statistical significance. Fill in the below to calculate the number of conversions for each page, as well as the number of individuals who received each page. Let `n_old` and `n_new` refer the the number of rows associated with the old page and new pages, respectively."
   ]
  },
  {
   "cell_type": "code",
   "execution_count": 31,
   "metadata": {},
   "outputs": [
    {
     "data": {
      "text/plain": [
       "17264"
      ]
     },
     "execution_count": 31,
     "metadata": {},
     "output_type": "execute_result"
    }
   ],
   "source": [
    "import statsmodels.api as sm\n",
    "convert_old = df2.query(\"landing_page == 'old_page' and converted == 1\").shape[0]\n",
    "convert_new = df2.query(\"landing_page == 'new_page' and converted == 1\").shape[0] \n",
    "n_old = df2[df2['group']=='control'].shape[0]\n",
    "n_new = df2[df2['group']=='treatment'].shape[0]\n",
    "convert_new"
   ]
  },
  {
   "cell_type": "markdown",
   "metadata": {},
   "source": [
    "m. Now use `stats.proportions_ztest` to compute your test statistic and p-value.  [Here](http://knowledgetack.com/python/statsmodels/proportions_ztest/) is a helpful link on using the built in."
   ]
  },
  {
   "cell_type": "code",
   "execution_count": 32,
   "metadata": {},
   "outputs": [
    {
     "name": "stdout",
     "output_type": "stream",
     "text": [
      "1.3109241984234394 0.9050583127590245\n"
     ]
    }
   ],
   "source": [
    "z_score, p_value=sm.stats.proportions_ztest([convert_old,convert_new],[n_old,n_new],alternative='smaller')\n",
    "print(z_score,p_value)"
   ]
  },
  {
   "cell_type": "markdown",
   "metadata": {},
   "source": [
    "n. What do the z-score and p-value you computed in the previous question mean for the conversion rates of the old and new pages?  Do they agree with the findings in parts **j.** and **k.**?"
   ]
  },
  {
   "cell_type": "code",
   "execution_count": 33,
   "metadata": {},
   "outputs": [
    {
     "name": "stdout",
     "output_type": "stream",
     "text": [
      "0.9050583127590245\n",
      "1.6448536269514722\n"
     ]
    }
   ],
   "source": [
    "from scipy.stats import norm\n",
    "print(norm.cdf(z_score))\n",
    "print(norm.ppf(1-0.05))"
   ]
  },
  {
   "cell_type": "markdown",
   "metadata": {},
   "source": [
    "**We do agree with the findings in part j and k.\n",
    "The z-score 1.310 is less than the critical value of 1.644, hence we fail to reject the null hypothesis which tells us that the old conversion rate is lower than the new conversion rate.**"
   ]
  },
  {
   "cell_type": "markdown",
   "metadata": {},
   "source": [
    "<a id='regression'></a>\n",
    "### Part III - A regression approach\n",
    "\n",
    "`1.` In this final part, you will see that the result you acheived in the previous A/B test can also be acheived by performing regression.<br><br>\n",
    "\n",
    "a. Since each row is either a conversion or no conversion, what type of regression should you be performing in this case?"
   ]
  },
  {
   "cell_type": "markdown",
   "metadata": {},
   "source": [
    "**Logistic Regression**"
   ]
  },
  {
   "cell_type": "markdown",
   "metadata": {},
   "source": [
    "b. The goal is to use **statsmodels** to fit the regression model you specified in part **a.** to see if there is a significant difference in conversion based on which page a customer receives.  However, you first need to create a column for the intercept, and create a dummy variable column for which page each user received.  Add an **intercept** column, as well as an **ab_page** column, which is 1 when an individual receives the **treatment** and 0 if **control**."
   ]
  },
  {
   "cell_type": "code",
   "execution_count": 34,
   "metadata": {},
   "outputs": [],
   "source": [
    "df2['intercept']=1\n",
    "df2[['control','treatment']]=pd.get_dummies(df2['group'])\n",
    "#df2[['control','treatment']]"
   ]
  },
  {
   "cell_type": "markdown",
   "metadata": {},
   "source": [
    "c. Use **statsmodels** to import your regression model.  Instantiate the model, and fit the model using the two columns you created in part **b.** to predict whether or not an individual converts."
   ]
  },
  {
   "cell_type": "code",
   "execution_count": 35,
   "metadata": {},
   "outputs": [
    {
     "name": "stdout",
     "output_type": "stream",
     "text": [
      "Optimization terminated successfully.\n",
      "         Current function value: 0.366118\n",
      "         Iterations 6\n"
     ]
    }
   ],
   "source": [
    "import statsmodels.api as sm\n",
    "logit=sm.Logit(df2['converted'],df2[['intercept','treatment']])\n",
    "results=logit.fit()"
   ]
  },
  {
   "cell_type": "markdown",
   "metadata": {},
   "source": [
    "d. Provide the summary of your model below, and use it as necessary to answer the following questions."
   ]
  },
  {
   "cell_type": "code",
   "execution_count": 53,
   "metadata": {},
   "outputs": [
    {
     "data": {
      "text/html": [
       "<table class=\"simpletable\">\n",
       "<tr>\n",
       "        <td>Model:</td>              <td>Logit</td>       <td>No. Iterations:</td>    <td>6.0000</td>   \n",
       "</tr>\n",
       "<tr>\n",
       "  <td>Dependent Variable:</td>     <td>converted</td>    <td>Pseudo R-squared:</td>    <td>0.000</td>   \n",
       "</tr>\n",
       "<tr>\n",
       "         <td>Date:</td>        <td>2019-07-17 00:13</td>       <td>AIC:</td>        <td>212780.3502</td>\n",
       "</tr>\n",
       "<tr>\n",
       "   <td>No. Observations:</td>       <td>290584</td>            <td>BIC:</td>        <td>212801.5095</td>\n",
       "</tr>\n",
       "<tr>\n",
       "       <td>Df Model:</td>              <td>1</td>         <td>Log-Likelihood:</td>  <td>-1.0639e+05</td>\n",
       "</tr>\n",
       "<tr>\n",
       "     <td>Df Residuals:</td>         <td>290582</td>          <td>LL-Null:</td>      <td>-1.0639e+05</td>\n",
       "</tr>\n",
       "<tr>\n",
       "      <td>Converged:</td>           <td>1.0000</td>           <td>Scale:</td>         <td>1.0000</td>   \n",
       "</tr>\n",
       "</table>\n",
       "<table class=\"simpletable\">\n",
       "<tr>\n",
       "      <td></td>       <th>Coef.</th>  <th>Std.Err.</th>     <th>z</th>      <th>P>|z|</th> <th>[0.025</th>  <th>0.975]</th> \n",
       "</tr>\n",
       "<tr>\n",
       "  <th>intercept</th> <td>-1.9888</td>  <td>0.0081</td>  <td>-246.6690</td> <td>0.0000</td> <td>-2.0046</td> <td>-1.9730</td>\n",
       "</tr>\n",
       "<tr>\n",
       "  <th>treatment</th> <td>-0.0150</td>  <td>0.0114</td>   <td>-1.3109</td>  <td>0.1899</td> <td>-0.0374</td> <td>0.0074</td> \n",
       "</tr>\n",
       "</table>"
      ],
      "text/plain": [
       "<class 'statsmodels.iolib.summary2.Summary'>\n",
       "\"\"\"\n",
       "                          Results: Logit\n",
       "==================================================================\n",
       "Model:              Logit            No. Iterations:   6.0000     \n",
       "Dependent Variable: converted        Pseudo R-squared: 0.000      \n",
       "Date:               2019-07-17 00:13 AIC:              212780.3502\n",
       "No. Observations:   290584           BIC:              212801.5095\n",
       "Df Model:           1                Log-Likelihood:   -1.0639e+05\n",
       "Df Residuals:       290582           LL-Null:          -1.0639e+05\n",
       "Converged:          1.0000           Scale:            1.0000     \n",
       "-------------------------------------------------------------------\n",
       "              Coef.   Std.Err.      z      P>|z|    [0.025   0.975]\n",
       "-------------------------------------------------------------------\n",
       "intercept    -1.9888    0.0081  -246.6690  0.0000  -2.0046  -1.9730\n",
       "treatment    -0.0150    0.0114    -1.3109  0.1899  -0.0374   0.0074\n",
       "==================================================================\n",
       "\n",
       "\"\"\""
      ]
     },
     "execution_count": 53,
     "metadata": {},
     "output_type": "execute_result"
    }
   ],
   "source": [
    "results.summary2()"
   ]
  },
  {
   "cell_type": "markdown",
   "metadata": {},
   "source": [
    "e. What is the p-value associated with **ab_page**? Why does it differ from the value you found in **Part II**?<br><br>  **Hint**: What are the null and alternative hypotheses associated with your regression model, and how do they compare to the null and alternative hypotheses in the **Part II**?"
   ]
  },
  {
   "cell_type": "markdown",
   "metadata": {},
   "source": [
    "**0.1899**\n",
    "> This is a two sided test, AB teseting-part 2 was a one sided test."
   ]
  },
  {
   "cell_type": "markdown",
   "metadata": {},
   "source": [
    "f. Now, you are considering other things that might influence whether or not an individual converts.  Discuss why it is a good idea to consider other factors to add into your regression model.  Are there any disadvantages to adding additional terms into your regression model?"
   ]
  },
  {
   "cell_type": "markdown",
   "metadata": {},
   "source": [
    "**Yes there are disadvantages if we add additional terms into our regression model.**"
   ]
  },
  {
   "cell_type": "markdown",
   "metadata": {},
   "source": [
    "g. Now along with testing if the conversion rate changes for different pages, also add an effect based on which country a user lives. You will need to read in the **countries.csv** dataset and merge together your datasets on the approporiate rows.  [Here](https://pandas.pydata.org/pandas-docs/stable/generated/pandas.DataFrame.join.html) are the docs for joining tables. \n",
    "\n",
    "Does it appear that country had an impact on conversion?  Don't forget to create dummy variables for these country columns - **Hint: You will need two columns for the three dummy variables.** Provide the statistical output as well as a written response to answer this question."
   ]
  },
  {
   "cell_type": "code",
   "execution_count": 54,
   "metadata": {},
   "outputs": [],
   "source": [
    "countries_df = pd.read_csv('./countries.csv')\n",
    "df_new = countries_df.set_index('user_id').join(df2.set_index('user_id'), how='inner')"
   ]
  },
  {
   "cell_type": "code",
   "execution_count": 55,
   "metadata": {},
   "outputs": [],
   "source": [
    "### Create the necessary dummy variables\n",
    "df_new['intercept']=1\n",
    "df_new[['UK','US']]=pd.get_dummies(df_new['country'])[['UK','US']]"
   ]
  },
  {
   "cell_type": "markdown",
   "metadata": {},
   "source": [
    "h. Though you have now looked at the individual factors of country and page on conversion, we would now like to look at an interaction between page and country to see if there significant effects on conversion.  Create the necessary additional columns, and fit the new model.  \n",
    "\n",
    "Provide the summary results, and your conclusions based on the results."
   ]
  },
  {
   "cell_type": "code",
   "execution_count": 56,
   "metadata": {},
   "outputs": [
    {
     "name": "stdout",
     "output_type": "stream",
     "text": [
      "Optimization terminated successfully.\n",
      "         Current function value: 0.366118\n",
      "         Iterations 6\n"
     ]
    },
    {
     "data": {
      "text/html": [
       "<table class=\"simpletable\">\n",
       "<tr>\n",
       "        <td>Model:</td>              <td>Logit</td>       <td>No. Iterations:</td>    <td>6.0000</td>   \n",
       "</tr>\n",
       "<tr>\n",
       "  <td>Dependent Variable:</td>     <td>converted</td>    <td>Pseudo R-squared:</td>    <td>0.000</td>   \n",
       "</tr>\n",
       "<tr>\n",
       "         <td>Date:</td>        <td>2019-07-17 00:29</td>       <td>AIC:</td>        <td>212780.3502</td>\n",
       "</tr>\n",
       "<tr>\n",
       "   <td>No. Observations:</td>       <td>290584</td>            <td>BIC:</td>        <td>212801.5095</td>\n",
       "</tr>\n",
       "<tr>\n",
       "       <td>Df Model:</td>              <td>1</td>         <td>Log-Likelihood:</td>  <td>-1.0639e+05</td>\n",
       "</tr>\n",
       "<tr>\n",
       "     <td>Df Residuals:</td>         <td>290582</td>          <td>LL-Null:</td>      <td>-1.0639e+05</td>\n",
       "</tr>\n",
       "<tr>\n",
       "      <td>Converged:</td>           <td>1.0000</td>           <td>Scale:</td>         <td>1.0000</td>   \n",
       "</tr>\n",
       "</table>\n",
       "<table class=\"simpletable\">\n",
       "<tr>\n",
       "      <td></td>       <th>Coef.</th>  <th>Std.Err.</th>     <th>z</th>      <th>P>|z|</th> <th>[0.025</th>  <th>0.975]</th> \n",
       "</tr>\n",
       "<tr>\n",
       "  <th>intercept</th> <td>-1.9888</td>  <td>0.0081</td>  <td>-246.6690</td> <td>0.0000</td> <td>-2.0046</td> <td>-1.9730</td>\n",
       "</tr>\n",
       "<tr>\n",
       "  <th>treatment</th> <td>-0.0150</td>  <td>0.0114</td>   <td>-1.3109</td>  <td>0.1899</td> <td>-0.0374</td> <td>0.0074</td> \n",
       "</tr>\n",
       "</table>"
      ],
      "text/plain": [
       "<class 'statsmodels.iolib.summary2.Summary'>\n",
       "\"\"\"\n",
       "                          Results: Logit\n",
       "==================================================================\n",
       "Model:              Logit            No. Iterations:   6.0000     \n",
       "Dependent Variable: converted        Pseudo R-squared: 0.000      \n",
       "Date:               2019-07-17 00:29 AIC:              212780.3502\n",
       "No. Observations:   290584           BIC:              212801.5095\n",
       "Df Model:           1                Log-Likelihood:   -1.0639e+05\n",
       "Df Residuals:       290582           LL-Null:          -1.0639e+05\n",
       "Converged:          1.0000           Scale:            1.0000     \n",
       "-------------------------------------------------------------------\n",
       "              Coef.   Std.Err.      z      P>|z|    [0.025   0.975]\n",
       "-------------------------------------------------------------------\n",
       "intercept    -1.9888    0.0081  -246.6690  0.0000  -2.0046  -1.9730\n",
       "treatment    -0.0150    0.0114    -1.3109  0.1899  -0.0374   0.0074\n",
       "==================================================================\n",
       "\n",
       "\"\"\""
      ]
     },
     "execution_count": 56,
     "metadata": {},
     "output_type": "execute_result"
    }
   ],
   "source": [
    "### Fit Your Linear Model And Obtain the Results\n",
    "import statsmodels.api as sm\n",
    "logit=sm.Logit(df2['converted'],df2[['intercept','treatment']])\n",
    "results=logit.fit()\n",
    "\n",
    "results.summary2()"
   ]
  },
  {
   "cell_type": "markdown",
   "metadata": {},
   "source": [
    "<a id='conclusions'></a>\n",
    "## Conclusions\n",
    "\n",
    "Congratulations on completing the project! \n",
    "\n",
    "### Gather Submission Materials\n",
    "\n",
    "Once you are satisfied with the status of your Notebook, you should save it in a format that will make it easy for others to read. You can use the __File -> Download as -> HTML (.html)__ menu to save your notebook as an .html file. If you are working locally and get an error about \"No module name\", then open a terminal and try installing the missing module using `pip install <module_name>` (don't include the \"<\" or \">\" or any words following a period in the module name).\n",
    "\n",
    "You will submit both your original Notebook and an HTML or PDF copy of the Notebook for review. There is no need for you to include any data files with your submission. If you made reference to other websites, books, and other resources to help you in solving tasks in the project, make sure that you document them. It is recommended that you either add a \"Resources\" section in a Markdown cell at the end of the Notebook report, or you can include a `readme.txt` file documenting your sources.\n",
    "\n",
    "### Submit the Project\n",
    "\n",
    "When you're ready, click on the \"Submit Project\" button to go to the project submission page. You can submit your files as a .zip archive or you can link to a GitHub repository containing your project files. If you go with GitHub, note that your submission will be a snapshot of the linked repository at time of submission. It is recommended that you keep each project in a separate repository to avoid any potential confusion: if a reviewer gets multiple folders representing multiple projects, there might be confusion regarding what project is to be evaluated.\n",
    "\n",
    "It can take us up to a week to grade the project, but in most cases it is much faster. You will get an email once your submission has been reviewed. If you are having any problems submitting your project or wish to check on the status of your submission, please email us at dataanalyst-project@udacity.com. In the meantime, you should feel free to continue on with your learning journey by beginning the next module in the program."
   ]
  },
  {
   "cell_type": "code",
   "execution_count": null,
   "metadata": {
    "collapsed": true
   },
   "outputs": [],
   "source": []
  }
 ],
 "metadata": {
  "kernelspec": {
   "display_name": "Python 3",
   "language": "python",
   "name": "python3"
  },
  "language_info": {
   "codemirror_mode": {
    "name": "ipython",
    "version": 3
   },
   "file_extension": ".py",
   "mimetype": "text/x-python",
   "name": "python",
   "nbconvert_exporter": "python",
   "pygments_lexer": "ipython3",
   "version": "3.6.4"
  }
 },
 "nbformat": 4,
 "nbformat_minor": 2
}
